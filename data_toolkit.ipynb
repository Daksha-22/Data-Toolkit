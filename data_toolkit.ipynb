{
  "nbformat": 4,
  "nbformat_minor": 0,
  "metadata": {
    "colab": {
      "provenance": []
    },
    "kernelspec": {
      "name": "python3",
      "display_name": "Python 3"
    },
    "language_info": {
      "name": "python"
    }
  },
  "cells": [
    {
      "cell_type": "markdown",
      "source": [
        "#Theory Questions:"
      ],
      "metadata": {
        "id": "XkDQfoVcMt3e"
      }
    },
    {
      "cell_type": "markdown",
      "source": [
        "Q1. What is NumPy, and why is it widely used in Python?\n",
        "\n",
        "Ans: NumPy (Numerical Python) is a Python library used for fast numerical computations. It provides:\n",
        "\n",
        "- N-dimensional arrays (much faster and more efficient than Python lists).\n",
        "\n",
        "- Mathematical functions for linear algebra, statistics, Fourier transforms, etc.\n",
        "\n",
        "- Vectorization, which speeds up operations by avoiding Python loops.\n",
        "\n",
        "It’s widely used because it makes handling large datasets and complex mathematical operations easy, efficient, and faster, forming the foundation for libraries like Pandas, SciPy, TensorFlow, and scikit-learn."
      ],
      "metadata": {
        "id": "Ni6YnjeiM6ek"
      }
    },
    {
      "cell_type": "markdown",
      "source": [
        "Q2.How does broadcasting work in NumPy?\n",
        "\n",
        "Ans: In NumPy, broadcasting is a way of performing arithmetic operations on arrays of different shapes without explicitly copying data.\n",
        "\n",
        "It works by following a set of rules:\n",
        "\n",
        "Align shapes from the right (like padding with 1s on the left if needed).\n",
        "\n",
        "If dimensions are equal - they are compatible.\n",
        "\n",
        "If one of them is 1 - it gets \"stretched\" (broadcasted) to match the other.\n",
        "\n",
        "If they are different and not 1, - error.\n",
        "\n",
        "example:\n",
        "\n",
        "    import numpy as np\n",
        "\n",
        "    a = np.array([1, 2, 3])      # shape (3,)\n",
        "    b = np.array([[10], [20]])   # shape (2,1)\n",
        "\n",
        "    result = a + b\n",
        "    print(result)\n",
        "\n",
        "    output:\n",
        "    [[11 12 13]\n",
        "    [21 22 23]]\n",
        "\n"
      ],
      "metadata": {
        "id": "ukBUQPmCN6-e"
      }
    },
    {
      "cell_type": "markdown",
      "source": [
        "Q3.What is a Pandas DataFrame?\n",
        "\n",
        "Ans:A Pandas DataFrame is a two-dimensional, tabular data structure in Python, similar to an Excel sheet or SQL table.\n",
        "\n",
        "- It has rows (index) and columns (labels).\n",
        "\n",
        "- Each column can hold different data types (int, float, string, etc.).\n",
        "\n",
        "- It provides powerful tools for data manipulation, cleaning, analysis, and visualization.\n",
        "\n",
        "Example:\n",
        "\n",
        "    import pandas as pd\n",
        "\n",
        "    data = {\n",
        "    \"Name\": [\"daksha\", \"dimple\", \"jayshri\"],\n",
        "    \"Age\": [22, 21, 23],\n",
        "    \"City\": [\"ambernath\", \"kalyan\", \"ulhasnagar\"]\n",
        "      }\n",
        "\n",
        "    df = pd.DataFrame(data)\n",
        "    print(df)\n",
        "    output:\n",
        "          Name  Age      City\n",
        "    0    daksha   22  ambernath\n",
        "    1    dimple   21  kalyan\n",
        "    2    jayshri  23  ulhasnagar\n",
        "\n"
      ],
      "metadata": {
        "id": "wePWDfEMPbVe"
      }
    },
    {
      "cell_type": "markdown",
      "source": [
        "Q4.Explain the use of the groupby() method in Pandas?\n",
        "\n",
        "Ans:The groupby() method in Pandas is used to split data into groups based on one or more columns, then apply some operation (like sum, mean, count, etc.) on each group.\n",
        "\n",
        "It follows the Split–Apply–Combine strategy:\n",
        "\n",
        "Split: Divide the data into groups.\n",
        "\n",
        "Apply : Perform an operation (aggregation, transformation, filtering).\n",
        "\n",
        "Combine : Merge results into a DataFrame/Series.\n",
        "\n",
        "example:\n",
        "\n",
        "    import pandas as pd\n",
        "\n",
        "    data = {\n",
        "    \"Department\": [\"IT\", \"HR\", \"IT\", \"HR\", \"Finance\"],\n",
        "    \"Employee\": [\"A\", \"B\", \"C\", \"D\", \"E\"],\n",
        "    \"Salary\": [60000, 50000, 65000, 52000, 70000]\n",
        "    }\n",
        "\n",
        "    df = pd.DataFrame(data)\n",
        "\n",
        "    #Group by Department and calculate average salary\n",
        "    result = df.groupby(\"Department\")[\"Salary\"].mean()\n",
        "    print(result)\n",
        "    output:\n",
        "    Department\n",
        "    Finance    70000.0\n",
        "    HR         51000.0\n",
        "    IT         62500.0\n",
        "    Name: Salary, dtype: float64\n",
        "\n"
      ],
      "metadata": {
        "id": "f3-XL2wsQtB6"
      }
    },
    {
      "cell_type": "markdown",
      "source": [
        "Q5.Why is Seaborn preferred for statistical visualizations?\n",
        "\n",
        "Ans: Seaborn is preferred for statistical visualizations because:\n",
        "\n",
        "- It is built on Matplotlib but provides a simpler, high-level API.\n",
        "\n",
        "- Comes with built-in themes and color palettes for attractive visuals.\n",
        "\n",
        "- Integrates well with Pandas DataFrames.\n",
        "\n",
        "- Provides specialized plots (heatmaps, violin plots, pair plots, etc.) for statistical analysis.\n",
        "\n",
        "- Handles aggregation and confidence intervals automatically in many plots.\n",
        "\n",
        "In short: Seaborn makes it easier, faster, and more visually appealing to create statistical plots compared to plain Matplotlib."
      ],
      "metadata": {
        "id": "J1Zgwpfs02DP"
      }
    },
    {
      "cell_type": "markdown",
      "source": [
        "Q6.What are the differences between NumPy arrays and Python lists?\n",
        "\n",
        "Ans: Differences between Numpy arrays and Python list are:\n",
        "Storage: NumPy arrays store elements in contiguous memory → faster, while lists are scattered in memory.\n",
        "\n",
        "Data type: Arrays are homogeneous (all elements same type), lists are heterogeneous.\n",
        "\n",
        "Performance: Arrays are much faster for numerical computations.\n",
        "\n",
        "Operations: Arrays support vectorized operations (e.g., a + b adds element-wise), lists require loops.\n",
        "\n",
        "Memory: Arrays use less memory than lists for large datasets.\n",
        "\n",
        " In short: Use lists for general-purpose collections, and NumPy arrays for efficient numerical and scientific computing."
      ],
      "metadata": {
        "id": "p3opR9Zn2PIS"
      }
    },
    {
      "cell_type": "markdown",
      "source": [
        "Q7. What is a heatmap, and when should it be used?\n",
        "\n",
        "Ans: A heatmap is a data visualization technique that uses color intensity to represent values in a matrix or table.\n",
        "\n",
        "Rows & columns -> represent categories or variables.\n",
        "\n",
        "Colors -> represent the magnitude of values (e.g., darker = higher, lighter = lower).\n",
        "\n",
        "When to use a heatmap:\n",
        "\n",
        "- To visualize correlation between variables (e.g., in statistics or ML).\n",
        "\n",
        "- To display patterns or trends in large datasets.\n",
        "\n",
        "- To highlight high and low values quickly in tabular data.\n",
        "\n",
        "In short: Use a heatmap when you want a visual summary of numerical data relationships."
      ],
      "metadata": {
        "id": "pSAWniIq29v_"
      }
    },
    {
      "cell_type": "markdown",
      "source": [
        "Q8.What does the term “vectorized operation” mean in NumPy?\n",
        "\n",
        "Ans:In NumPy, a vectorized operation refers to performing element-wise operations on entire arrays without explicit Python loops.\n",
        "\n",
        "Operations are applied to all elements at once.\n",
        "\n",
        "Much faster and more efficient because they are implemented in optimized C code under the hood.\n",
        "\n",
        "Example:\n",
        "\n",
        "    import numpy as np\n",
        "\n",
        "    a = np.array([1, 2, 3])\n",
        "    b = np.array([4, 5, 6])\n",
        "\n",
        "    #Vectorized addition\n",
        "     c = a + b\n",
        "    print(c)\n",
        "    output:\n",
        "    [5 7 9]\n",
        "\n"
      ],
      "metadata": {
        "id": "RmhY2pe238Be"
      }
    },
    {
      "cell_type": "markdown",
      "source": [
        "Q9.A How does Matplotlib differ from Plotly?\n",
        "\n",
        "Ans: Difference between Matplotlib and Plotly are:\n",
        "\n",
        "- Type: Matplotlib -> Static plots | Plotly -> Interactive plots\n",
        "\n",
        "- Ease of use: Matplotlib -> Simple for basic plots | Plotly -> Slightly more complex but interactive\n",
        "\n",
        "- Interactivity: Matplotlib -> Limited | Plotly -> Built-in (zoom, hover, pan)\n",
        "\n",
        "- Output: Matplotlib -> Images (PNG, PDF, etc.) | Plotly -> HTML, web dashboards\n",
        "\n",
        "- Use case: Matplotlib -> Publication-quality, static analysis | Plotly -> Dashboards, interactive exploration."
      ],
      "metadata": {
        "id": "Uu9Wh_Qj5C50"
      }
    },
    {
      "cell_type": "markdown",
      "source": [
        "Q10.What is the significance of hierarchical indexing in Pandas?\n",
        "\n",
        "Ans:Hierarchical indexing (or MultiIndex) in Pandas allows a DataFrame or Series to have multiple levels of row or column labels, enabling more complex, structured data representation.\n",
        "\n",
        "Significance:\n",
        "\n",
        "- Organizes multi-dimensional data in a 2D table.\n",
        "\n",
        "- Easier grouping and aggregation on multiple levels.\n",
        "\n",
        "- Supports advanced slicing and subsetting.\n",
        "\n",
        "- Reduces the need for multiple DataFrames for related data.\n",
        "\n",
        "example:\n",
        "\n",
        "    import pandas as pd\n",
        "\n",
        "    data = {\n",
        "    'Sales': [200, 250, 300, 400],\n",
        "    'Profit': [50, 60, 70, 80]\n",
        "     }\n",
        "\n",
        "    index = pd.MultiIndex.from_tuples(\n",
        "    [('Store1', 'Jan'), ('Store1', 'Feb'), ('Store2', 'Jan'), ('Store2', 'Feb')],\n",
        "    names=['Store', 'Month']\n",
        "    )\n",
        "\n",
        "    df = pd.DataFrame(data, index=index)\n",
        "    print(df)\n",
        "    outout:\n",
        "                 Sales  Profit\n",
        "    Store  Month                \n",
        "    Store1 Jan     200      50\n",
        "           Feb     250      60\n",
        "    Store2 Jan     300      70\n",
        "           Feb     400      80\n",
        "\n"
      ],
      "metadata": {
        "id": "GmQuc2aR6Z5h"
      }
    },
    {
      "cell_type": "markdown",
      "source": [
        "Q11.What is the role of Seaborn’s pairplot() function?\n",
        "\n",
        "Ans: Seaborn’s pairplot() function is used to visualize relationships between multiple variables in a dataset.\n",
        "\n",
        "Key points:\n",
        "\n",
        "Plots pairwise relationships (scatter plots) for all numerical columns.\n",
        "\n",
        "Diagonal shows univariate distributions (histograms or KDE).\n",
        "\n",
        "Can color points by a categorical variable using hue.\n",
        "\n",
        "Helps quickly identify correlations, trends, and clusters.\n",
        "\n",
        "example:\n",
        "    \n",
        "    import seaborn as sns\n",
        "    import pandas as pd\n",
        "\n",
        "    df = sns.load_dataset(\"iris\")\n",
        "    sns.pairplot(df, hue=\"species\")\n",
        "    \n"
      ],
      "metadata": {
        "id": "noghjKF47h1D"
      }
    },
    {
      "cell_type": "markdown",
      "source": [
        "Q12.What is the purpose of the describe() function in Pandas?\n",
        "\n",
        "Ans: The describe() function in Pandas is used to generate summary statistics of a DataFrame or Series.\n",
        "\n",
        "Purpose:\n",
        "\n",
        "- Provides quick insights into the data.\n",
        "\n",
        "- Shows count, mean, standard deviation, min, max, and quartiles (25%, 50%, 75%) for numeric columns.\n",
        "\n",
        "- Can also summarize categorical data if include='object' is specified.\n",
        "\n"
      ],
      "metadata": {
        "id": "qG6_A4eM8a1h"
      }
    },
    {
      "cell_type": "markdown",
      "source": [
        "Q13.Why is handling missing data important in Pandas?\n",
        "\n",
        "Ans:Handling missing data in Pandas is important because missing values can cause errors or misleading results in analysis.\n",
        "\n",
        "Key reasons:\n",
        "\n",
        "- Accuracy: Calculations like mean, sum, or correlations may be wrong if NaNs are present.\n",
        "\n",
        "- Data integrity: Many algorithms (e.g., machine learning models) cannot handle missing values.\n",
        "\n",
        "- Consistency: Ensures datasets are complete and reliable for analysis.\n",
        "\n",
        "- Visualization: Missing values can distort plots and insights.\n",
        "\n",
        "Common Pandas methods to handle missing data:\n",
        "\n",
        "- isna() / isnull() -> Detect missing values\n",
        "\n",
        "- dropna() -> Remove missing rows or columns\n",
        "\n",
        "- fillna() -> Replace missing values with a specific value or statistic\n",
        "\n",
        " In short: Properly handling missing data ensures accurate, reliable, and consistent analysis."
      ],
      "metadata": {
        "id": "qOQU3wha9NaB"
      }
    },
    {
      "cell_type": "markdown",
      "source": [
        "Q14.What are the benefits of using Plotly for data visualization?\n",
        "\n",
        "Ans: Here are the key benefits of using Plotly for data visualization:\n",
        "\n",
        "Interactive plots -> Built-in zooming, panning, hovering, and tooltips.\n",
        "\n",
        "Wide variety of charts → From basic (line, bar, scatter) to advanced (3D, maps, gauges, financial).\n",
        "\n",
        "Web-ready -> Exports to HTML, integrates easily with dashboards and web apps.\n",
        "\n",
        "Integration -> Works well with Pandas, NumPy, and Jupyter Notebooks.\n",
        "\n",
        "Customization -> Highly flexible styling and layout options.\n",
        "\n",
        "Cross-platform -> Visualizations can be shared across browsers and devices without extra setup.\n",
        "\n",
        "Supports Dash -> Enables building interactive data apps without needing JavaScript.\n",
        "\n",
        " In short: Plotly is great for creating interactive, shareable, and professional-quality visualizations beyond static charts."
      ],
      "metadata": {
        "id": "1vS3lJ4p939S"
      }
    },
    {
      "cell_type": "markdown",
      "source": [
        "Q15. How does NumPy handle multidimensional arrays?\n",
        "\n",
        "Ans: NumPy handles multidimensional arrays using the ndarray object, which can store data in any number of dimensions (1D, 2D, 3D, … nD).\n",
        "\n",
        "Key points:\n",
        "\n",
        "A NumPy array can have n dimensions, defined by its shape (tuple of sizes for each axis).\n",
        "\n",
        "Access elements using multiple indices (e.g., arr[1, 2] for 2D, arr[0,1,2] for 3D).\n",
        "\n",
        "Supports operations across axes (row-wise, column-wise, etc.).\n",
        "\n",
        "Functions like reshape(), transpose(), and slicing allow flexible manipulation.\n",
        "\n",
        "Example:\n",
        "\n",
        "    import numpy as np\n",
        "\n",
        "    # 2D array (matrix)\n",
        "    arr_2d = np.array([[1, 2, 3], [4, 5, 6]])\n",
        "    print(arr_2d.shape)   # (2, 3)\n",
        "\n",
        "    # 3D array (tensor)\n",
        "    arr_3d = np.array([[[1,2],[3,4]], [[5,6],[7,8]]])\n",
        "    print(arr_3d.shape)   # (2, 2, 2)\n"
      ],
      "metadata": {
        "id": "UvTP1xWA5v0E"
      }
    },
    {
      "cell_type": "markdown",
      "source": [
        "Q16. What is the role of Bokeh in data visualization?\n",
        "\n",
        "Ans: okeh is a Python library used for creating interactive, web-based visualizations.\n",
        "\n",
        "Role & Key Features:\n",
        "\n",
        "Interactive visualizations → supports zooming, panning, tooltips, and selections.\n",
        "\n",
        "Web integration -> outputs directly to HTML, notebooks, or dashboards.\n",
        "\n",
        "Handles large datasets efficiently using streaming and downsampling.\n",
        "\n",
        "Variety of plots -> line, bar, scatter, heatmaps, network graphs, etc.\n",
        "\n",
        "Customizable -> highly flexible layouts, widgets, and themes.\n",
        "\n",
        "Dashboarding -> works with Bokeh Server for real-time, interactive apps.\n",
        "\n",
        "In short: Bokeh’s role is to help create interactive, scalable, and shareable visualizations for the web, making it useful for dashboards and big data exploration."
      ],
      "metadata": {
        "id": "1jxulEjn6RpZ"
      }
    },
    {
      "cell_type": "markdown",
      "source": [
        "Q17. Explain the difference between apply() and map() in Pandas.\n",
        "\n",
        "Ans: apply() and map() in Pandas are used to apply functions, but they differ in where and how they work:\n",
        "\n",
        "1. map()\n",
        "\n",
        "- Works only on Series (1D).\n",
        "\n",
        "- Applies a function element-wise.\n",
        "\n",
        "- Can take a function, dictionary, or Series for mapping.\n",
        "\n",
        "Example:\n",
        "\n",
        "    import pandas as pd\n",
        "\n",
        "    s = pd.Series([1, 2, 3, 4])\n",
        "    print(s.map(lambda x: x**2))\n",
        "\n",
        "\n",
        "    Output:\n",
        "\n",
        "    0     1\n",
        "    1     4\n",
        "    2     9\n",
        "    3    16\n",
        "    dtype: int64\n",
        "\n",
        "- apply()\n",
        "\n",
        "- Works on both Series and DataFrames.\n",
        "\n",
        "- More flexible: applies a function along an axis (axis=0 → columns, axis=1 → rows).\n",
        "\n",
        "- Can apply row-wise or column-wise operations.\n",
        "\n",
        "example:\n",
        "\n",
        "    df = pd.DataFrame({\n",
        "    \"A\": [1, 2, 3],\n",
        "    \"B\": [4, 5, 6]\n",
        "    })\n",
        "\n",
        "    # Column-wise sum\n",
        "    print(df.apply(sum, axis=0))\n",
        "\n",
        "    # Row-wise sum\n",
        "    print(df.apply(sum, axis=1))"
      ],
      "metadata": {
        "id": "Fxhp94Br6q64"
      }
    },
    {
      "cell_type": "markdown",
      "source": [
        "Q18.What are some advanced features of NumPy?\n",
        "\n",
        "Ans:NumPy has many advanced features beyond basic arrays and arithmetic. Some key ones are:\n",
        "\n",
        "1.Broadcasting → Perform operations on arrays of different shapes without explicit loops.\n",
        "\n",
        "2.Vectorization → Fast element-wise operations using optimized C code (no Python loops).\n",
        "\n",
        "3.Fancy indexing & boolean masking → Select elements using arrays of indices or conditions.\n",
        "\n",
        "\n",
        "4.Universal functions (ufuncs) → Fast element-wise functions like np.add, np.exp, np.sin.\n",
        "\n",
        "5.Linear algebra → Matrix multiplication, determinants, eigenvalues (np.linalg).\n",
        "\n",
        "6.Random module → Random number generation, distributions, shuffling (np.random).\n",
        "\n",
        "7.FFT (Fast Fourier Transform) → Signal processing operations (np.fft).\n",
        "\n",
        "8.Memory efficiency → Multidimensional arrays stored in contiguous memory → faster access.\n",
        "\n",
        "9.Views vs Copies → Efficient slicing that returns a view (no extra memory usage).\n",
        "\n",
        "10.Integration with C/C++ & Fortran → Can interface with low-level optimized libraries.\n",
        "\n",
        "In short: NumPy provides high-performance mathematical, statistical, and scientific computing features, making it the foundation of Python’s data science ecosystem."
      ],
      "metadata": {
        "id": "wWGUxeCQ8AEy"
      }
    },
    {
      "cell_type": "markdown",
      "source": [
        "Q19.How does Pandas simplify time series analysis?\n",
        "\n",
        "Ans: Pandas makes time series analysis much easier by providing built-in tools to handle dates, times, and frequency-based operations.\n",
        "\n",
        "Ways Pandas simplifies time series:\n",
        "\n",
        "1.Datetime handling\n",
        "\n",
        "- Convert strings to datetime with pd.to_datetime().\n",
        "\n",
        "- Access components (.dt.year, .dt.month, .dt.day).\n",
        "\n",
        "2.Datetime index\n",
        "\n",
        "- Use DatetimeIndex for fast indexing, slicing, and alignment by time.\n",
        "\n",
        "Example: df['2023-08'] → selects all rows from August 2023.\n",
        "\n",
        "3.Resampling & frequency conversion\n",
        "\n",
        "- resample() to change time frequency (daily → monthly, hourly → daily).\n",
        "\n",
        "- Supports aggregation (mean(), sum(), etc.).\n",
        "\n",
        "4.Shifting and lagging\n",
        "\n",
        "- shift() for moving data forward/backward in time.\n",
        "\n",
        "- Useful for lag features in forecasting.\n",
        "\n",
        "5.Rolling & expanding windows\n",
        "\n",
        "- rolling() for moving averages, sums, etc.\n",
        "\n",
        "- expanding() for cumulative stats.\n",
        "\n",
        "6.Time zone support\n",
        "\n",
        " Easy conversion with .tz_localize() and .tz_convert().\n",
        "\n",
        " Example:\n",
        "\n",
        "    import pandas as pd\n",
        "\n",
        "    dates = pd.date_range(\"2023-01-01\", periods=6, freq=\"D\")\n",
        "    df = pd.DataFrame({\"Sales\": [10, 20, 30, 25, 40, 50]}, index=dates)\n",
        "\n",
        "    #Resample to 2-day frequency and take sum\n",
        "    print(df.resample(\"2D\").sum())\n",
        "\n",
        "    #Rolling 3-day average\n",
        "    print(df.rolling(3).mean())\n"
      ],
      "metadata": {
        "id": "Z-WrEYcU9BEk"
      }
    },
    {
      "cell_type": "markdown",
      "source": [
        "Q20.What is the role of a pivot table in Pandas?\n",
        "\n",
        "Ans: A pivot table in Pandas is used to summarize and reorganize data for better analysis, similar to Excel pivot tables.\n",
        "\n",
        "Role of pivot tables in Pandas:\n",
        "\n",
        "Summarization → Aggregate data (sum, mean, count, etc.) based on categories.\n",
        "\n",
        "Reshaping → Transform long data into a more structured, cross-tabulated format.\n",
        "\n",
        "Multi-level grouping → Handle multiple index/column levels for complex analysis.\n",
        "\n",
        "Quick insights → Spot trends and comparisons easily.\n",
        "\n",
        "Example:\n",
        "\n",
        "    import pandas as pd\n",
        "\n",
        "    data = {\n",
        "    \"Department\": [\"IT\", \"IT\", \"HR\", \"HR\", \"Finance\", \"Finance\"],\n",
        "    \"Employee\": [\"A\", \"B\", \"C\", \"D\", \"E\", \"F\"],\n",
        "    \"Salary\": [60000, 65000, 50000, 52000, 70000, 72000]\n",
        "    }\n",
        "\n",
        "    df = pd.DataFrame(data)\n",
        "\n",
        "    #Create pivot table: average salary by Department\n",
        "    pivot = pd.pivot_table(df, values=\"Salary\", index=\"Department\", aggfunc=\"mean\")\n",
        "    print(pivot)\n",
        "    output:\n",
        "    Department  Salary      \n",
        "    Finance     71000\n",
        "    HR          51000\n",
        "    IT          62500\n",
        "\n"
      ],
      "metadata": {
        "id": "d5MhOxL_Idku"
      }
    },
    {
      "cell_type": "markdown",
      "source": [
        "Q21.Why is NumPy’s array slicing faster than Python’s list slicing?\n",
        "\n",
        "Ans:NumPy’s array slicing is faster than Python’s list slicing because of the following reasons:\n",
        "\n",
        "Reasons:\n",
        "\n",
        "1.Contiguous memory storage\n",
        "\n",
        "- NumPy arrays store elements in a continuous block of memory (like C arrays).\n",
        "\n",
        "- Lists store references to objects scattered in memory → slower access.\n",
        "\n",
        "2.Views vs Copies\n",
        "\n",
        "- Slicing a NumPy array usually creates a view (no new data, just a different “window” on the same memory).\n",
        "\n",
        "- List slicing always creates a new copy of the sliced elements.\n",
        "\n",
        "3.Fixed data types\n",
        "\n",
        "- NumPy arrays are homogeneous (all elements same type), so memory layout is predictable.\n",
        "\n",
        "- Lists are heterogeneous, requiring extra overhead to store type information.\n",
        "\n",
        "4.Low-level optimization\n",
        "\n",
        "- NumPy operations are implemented in optimized C code, while list slicing runs through Python’s slower interpreter.\n",
        "\n",
        "Example (performance check):\n",
        "\n",
        "    import numpy as np\n",
        "    import time\n",
        "\n",
        "    #NumPy slicing\n",
        "    arr = np.arange(1_000_000)\n",
        "    start = time.time()\n",
        "    slice_np = arr[1000:200000]   # view\n",
        "    end = time.time()\n",
        "    print(\"NumPy slicing:\", end - start)\n",
        "\n",
        "    #List slicing\n",
        "    lst = list(range(1_000_000))\n",
        "    start = time.time()\n",
        "    slice_list = lst[1000:200000] # copy\n",
        "    end = time.time()\n",
        "    print(\"List slicing:\", end - start)\n"
      ],
      "metadata": {
        "id": "7loOvEy8JUa3"
      }
    },
    {
      "cell_type": "markdown",
      "source": [
        "Q22.What are some common use cases for Seaborn?\n",
        "\n",
        "Ans: Seaborn is widely used for statistical data visualization in Python. Some common use cases are:\n",
        "\n",
        "1.Exploratory Data Analysis (EDA)\n",
        "\n",
        "- Quickly understand distributions, correlations, and patterns in data.\n",
        "\n",
        "2.Distribution plots\n",
        "\n",
        "- Visualizing histograms, KDE plots, and rug plots (displot, kdeplot).\n",
        "\n",
        "3.Relationship analysis\n",
        "\n",
        "- Scatter plots, regression lines (scatterplot, regplot, lmplot).\n",
        "\n",
        "4.Categorical data visualization\n",
        "\n",
        "- Comparing categories with bar plots, box plots, violin plots, strip plots (barplot, boxplot, violinplot).\n",
        "\n",
        "5.Correlation and heatmaps\n",
        "\n",
        "- Showing relationships between variables (heatmap).\n",
        "\n",
        "6.Pairwise relationships\n",
        "\n",
        "- Multi-variable exploration using pairplot.\n",
        "\n",
        "7.Time series visualization\n",
        "\n",
        "- Plotting trends over time (lineplot).\n",
        "\n",
        "8.Beautiful styling\n",
        "\n",
        "- Built-in themes (darkgrid, whitegrid, etc.) and color palettes."
      ],
      "metadata": {
        "id": "ez6PHAXEKNfq"
      }
    },
    {
      "cell_type": "markdown",
      "source": [
        "#Practical Questions:"
      ],
      "metadata": {
        "id": "687adtNyK0Vj"
      }
    },
    {
      "cell_type": "markdown",
      "source": [
        "Q1. How do you create a 2D NumPy array and calculate the sum of each row?"
      ],
      "metadata": {
        "id": "I8JwOWlaK6Mq"
      }
    },
    {
      "cell_type": "code",
      "source": [
        "import numpy as np\n",
        "\n",
        "# Create a 2D NumPy array\n",
        "arr = np.array([[1, 2, 3],\n",
        "                [4, 5, 6],\n",
        "                [7, 8, 9]])\n",
        "\n",
        "# Calculate sum of each row\n",
        "row_sum = np.sum(arr, axis=1)\n",
        "\n",
        "print(\"Array:\\n\", arr)\n",
        "print(\"Row-wise sum:\", row_sum)\n"
      ],
      "metadata": {
        "colab": {
          "base_uri": "https://localhost:8080/"
        },
        "id": "wJ6WAS1hLAQO",
        "outputId": "2f174a71-041d-401c-fbfa-384ba5e83240"
      },
      "execution_count": 1,
      "outputs": [
        {
          "output_type": "stream",
          "name": "stdout",
          "text": [
            "Array:\n",
            " [[1 2 3]\n",
            " [4 5 6]\n",
            " [7 8 9]]\n",
            "Row-wise sum: [ 6 15 24]\n"
          ]
        }
      ]
    },
    {
      "cell_type": "markdown",
      "source": [
        "Q2. Write a Pandas script to find the mean of a specific column in a DataFrame."
      ],
      "metadata": {
        "id": "Q92MawkALRcZ"
      }
    },
    {
      "cell_type": "code",
      "source": [
        "import pandas as pd\n",
        "\n",
        "# Sample DataFrame\n",
        "data = {\n",
        "    \"Name\": [\"Dimple\", \"Daksha\", \"Hitesh\", \"Ojas\"],\n",
        "    \"Age\": [21, 22, 26, 25],\n",
        "    \"Salary\": [50000, 60000, 70000, 80000]\n",
        "}\n",
        "\n",
        "df = pd.DataFrame(data)\n",
        "\n",
        "# Calculate mean of the 'Salary' column\n",
        "mean_salary = df[\"Salary\"].mean()\n",
        "\n",
        "print(\"Mean Salary:\", mean_salary)\n"
      ],
      "metadata": {
        "colab": {
          "base_uri": "https://localhost:8080/"
        },
        "id": "W5IbHlyMLWNT",
        "outputId": "0b84fbd2-f3b6-401c-e18f-3a059acf03ea"
      },
      "execution_count": 2,
      "outputs": [
        {
          "output_type": "stream",
          "name": "stdout",
          "text": [
            "Mean Salary: 65000.0\n"
          ]
        }
      ]
    },
    {
      "cell_type": "markdown",
      "source": [
        "Q3.  Create a scatter plot using Matplotlib."
      ],
      "metadata": {
        "id": "bf2Le9CLL9Ul"
      }
    },
    {
      "cell_type": "code",
      "source": [
        "import matplotlib.pyplot as plt\n",
        "\n",
        "# Sample data\n",
        "x = [1, 2, 3, 4, 5]\n",
        "y = [10, 15, 13, 20, 18]\n",
        "\n",
        "# Create scatter plot\n",
        "plt.scatter(x, y, color='blue', marker='o')\n",
        "\n",
        "# Add title and labels\n",
        "plt.title(\"Sample Scatter Plot\")\n",
        "plt.xlabel(\"X-axis\")\n",
        "plt.ylabel(\"Y-axis\")\n",
        "\n",
        "# Show plot\n",
        "plt.show()\n"
      ],
      "metadata": {
        "colab": {
          "base_uri": "https://localhost:8080/",
          "height": 472
        },
        "id": "tWkS5xJyMHpQ",
        "outputId": "083a7152-7e69-4116-f0d5-73550dc7b05c"
      },
      "execution_count": 3,
      "outputs": [
        {
          "output_type": "display_data",
          "data": {
            "text/plain": [
              "<Figure size 640x480 with 1 Axes>"
            ],
            "image/png": "[encoded data removed]"
          },
          "metadata": {}
        }
      ]
    },
    {
      "cell_type": "markdown",
      "source": [
        "Q4.How do you calculate the correlation matrix using Seaborn and visualize it with a heatmap?"
      ],
      "metadata": {
        "id": "HwHUdkBZMhFy"
      }
    },
    {
      "cell_type": "code",
      "source": [
        "import pandas as pd\n",
        "import seaborn as sns\n",
        "import matplotlib.pyplot as plt\n",
        "\n",
        "# Sample DataFrame\n",
        "data = {\n",
        "    \"A\": [1, 2, 3, 4, 5],\n",
        "    \"B\": [5, 4, 3, 2, 1],\n",
        "    \"C\": [2, 3, 4, 5, 6]\n",
        "}\n",
        "df = pd.DataFrame(data)\n",
        "\n",
        "# Calculate correlation matrix\n",
        "corr_matrix = df.corr()\n",
        "\n",
        "# Visualize with Seaborn heatmap\n",
        "sns.heatmap(corr_matrix, annot=True, cmap=\"coolwarm\")\n",
        "plt.title(\"Correlation Heatmap\")\n",
        "plt.show()\n"
      ],
      "metadata": {
        "colab": {
          "base_uri": "https://localhost:8080/",
          "height": 452
        },
        "id": "EDO4ciPvMpU-",
        "outputId": "98c8321c-e44b-4a2b-9d54-0f6fc6a024ff"
      },
      "execution_count": 4,
      "outputs": [
        {
          "output_type": "display_data",
          "data": {
            "text/plain": [
              "<Figure size 640x480 with 2 Axes>"
            ],
            "image/png": "[encoded data removed]"
          },
          "metadata": {}
        }
      ]
    },
    {
      "cell_type": "markdown",
      "source": [
        "Q5.Generate a bar plot using Plotly."
      ],
      "metadata": {
        "id": "zHkeLy56M8Sg"
      }
    },
    {
      "cell_type": "code",
      "source": [
        "import plotly.express as px\n",
        "import pandas as pd\n",
        "\n",
        "# Sample DataFrame\n",
        "data = {\n",
        "    \"Fruits\": [\"Apple\", \"Banana\", \"Orange\", \"Grapes\"],\n",
        "    \"Quantity\": [10, 15, 7, 12]\n",
        "}\n",
        "df = pd.DataFrame(data)\n",
        "\n",
        "# Create bar plot\n",
        "fig = px.bar(df, x=\"Fruits\", y=\"Quantity\", title=\"Fruit Quantities\",\n",
        "             color=\"Quantity\", text=\"Quantity\")\n",
        "\n",
        "# Show plot\n",
        "fig.show()\n"
      ],
      "metadata": {
        "colab": {
          "base_uri": "https://localhost:8080/",
          "height": 542
        },
        "id": "MGVr8MKONBJI",
        "outputId": "0f49c357-4b02-4c83-a224-a97b276b4e1c"
      },
      "execution_count": 5,
      "outputs": [
        {
          "output_type": "display_data",
          "data": {
            "text/html": [
              "<html>\n",
              "<head><meta charset=\"utf-8\" /></head>\n",
              "<body>\n",
              "    <div>            <script src=\"https://cdnjs.cloudflare.com/ajax/libs/mathjax/2.7.5/MathJax.js?config=TeX-AMS-MML_SVG\"></script><script type=\"text/javascript\">if (window.MathJax && window.MathJax.Hub && window.MathJax.Hub.Config) {window.MathJax.Hub.Config({SVG: {font: \"STIX-Web\"}});}</script>                <script type=\"text/javascript\">window.PlotlyConfig = {MathJaxConfig: 'local'};</script>\n",
              "        <script charset=\"utf-8\" src=\"https://cdn.plot.ly/plotly-2.35.2.min.js\"></script>                <div id=\"8673758e-676e-4e81-a5de-f76d3ad5c116\" class=\"plotly-graph-div\" style=\"height:525px; width:100%;\"></div>            <script type=\"text/javascript\">                                    window.PLOTLYENV=window.PLOTLYENV || {};                                    if (document.getElementById(\"8673758e-676e-4e81-a5de-f76d3ad5c116\")) {                    Plotly.newPlot(                        \"8673758e-676e-4e81-a5de-f76d3ad5c116\",                        [{\"alignmentgroup\":\"True\",\"hovertemplate\":\"Fruits=%{x}\\u003cbr\\u003eQuantity=%{marker.color}\\u003cextra\\u003e\\u003c\\u002fextra\\u003e\",\"legendgroup\":\"\",\"marker\":{\"color\":[10,15,7,12],\"coloraxis\":\"coloraxis\",\"pattern\":{\"shape\":\"\"}},\"name\":\"\",\"offsetgroup\":\"\",\"orientation\":\"v\",\"showlegend\":false,\"text\":[10.0,15.0,7.0,12.0],\"textposition\":\"auto\",\"x\":[\"Apple\",\"Banana\",\"Orange\",\"Grapes\"],\"xaxis\":\"x\",\"y\":[10,15,7,12],\"yaxis\":\"y\",\"type\":\"bar\"}],                        {\"template\":{\"data\":{\"histogram2dcontour\":[{\"type\":\"histogram2dcontour\",\"colorbar\":{\"outlinewidth\":0,\"ticks\":\"\"},\"colorscale\":[[0.0,\"#0d0887\"],[0.1111111111111111,\"#46039f\"],[0.2222222222222222,\"#7201a8\"],[0.3333333333333333,\"#9c179e\"],[0.4444444444444444,\"#bd3786\"],[0.5555555555555556,\"#d8576b\"],[0.6666666666666666,\"#ed7953\"],[0.7777777777777778,\"#fb9f3a\"],[0.8888888888888888,\"#fdca26\"],[1.0,\"#f0f921\"]]}],\"choropleth\":[{\"type\":\"choropleth\",\"colorbar\":{\"outlinewidth\":0,\"ticks\":\"\"}}],\"histogram2d\":[{\"type\":\"histogram2d\",\"colorbar\":{\"outlinewidth\":0,\"ticks\":\"\"},\"colorscale\":[[0.0,\"#0d0887\"],[0.1111111111111111,\"#46039f\"],[0.2222222222222222,\"#7201a8\"],[0.3333333333333333,\"#9c179e\"],[0.4444444444444444,\"#bd3786\"],[0.5555555555555556,\"#d8576b\"],[0.6666666666666666,\"#ed7953\"],[0.7777777777777778,\"#fb9f3a\"],[0.8888888888888888,\"#fdca26\"],[1.0,\"#f0f921\"]]}],\"heatmap\":[{\"type\":\"heatmap\",\"colorbar\":{\"outlinewidth\":0,\"ticks\":\"\"},\"colorscale\":[[0.0,\"#0d0887\"],[0.1111111111111111,\"#46039f\"],[0.2222222222222222,\"#7201a8\"],[0.3333333333333333,\"#9c179e\"],[0.4444444444444444,\"#bd3786\"],[0.5555555555555556,\"#d8576b\"],[0.6666666666666666,\"#ed7953\"],[0.7777777777777778,\"#fb9f3a\"],[0.8888888888888888,\"#fdca26\"],[1.0,\"#f0f921\"]]}],\"heatmapgl\":[{\"type\":\"heatmapgl\",\"colorbar\":{\"outlinewidth\":0,\"ticks\":\"\"},\"colorscale\":[[0.0,\"#0d0887\"],[0.1111111111111111,\"#46039f\"],[0.2222222222222222,\"#7201a8\"],[0.3333333333333333,\"#9c179e\"],[0.4444444444444444,\"#bd3786\"],[0.5555555555555556,\"#d8576b\"],[0.6666666666666666,\"#ed7953\"],[0.7777777777777778,\"#fb9f3a\"],[0.8888888888888888,\"#fdca26\"],[1.0,\"#f0f921\"]]}],\"contourcarpet\":[{\"type\":\"contourcarpet\",\"colorbar\":{\"outlinewidth\":0,\"ticks\":\"\"}}],\"contour\":[{\"type\":\"contour\",\"colorbar\":{\"outlinewidth\":0,\"ticks\":\"\"},\"colorscale\":[[0.0,\"#0d0887\"],[0.1111111111111111,\"#46039f\"],[0.2222222222222222,\"#7201a8\"],[0.3333333333333333,\"#9c179e\"],[0.4444444444444444,\"#bd3786\"],[0.5555555555555556,\"#d8576b\"],[0.6666666666666666,\"#ed7953\"],[0.7777777777777778,\"#fb9f3a\"],[0.8888888888888888,\"#fdca26\"],[1.0,\"#f0f921\"]]}],\"surface\":[{\"type\":\"surface\",\"colorbar\":{\"outlinewidth\":0,\"ticks\":\"\"},\"colorscale\":[[0.0,\"#0d0887\"],[0.1111111111111111,\"#46039f\"],[0.2222222222222222,\"#7201a8\"],[0.3333333333333333,\"#9c179e\"],[0.4444444444444444,\"#bd3786\"],[0.5555555555555556,\"#d8576b\"],[0.6666666666666666,\"#ed7953\"],[0.7777777777777778,\"#fb9f3a\"],[0.8888888888888888,\"#fdca26\"],[1.0,\"#f0f921\"]]}],\"mesh3d\":[{\"type\":\"mesh3d\",\"colorbar\":{\"outlinewidth\":0,\"ticks\":\"\"}}],\"scatter\":[{\"fillpattern\":{\"fillmode\":\"overlay\",\"size\":10,\"solidity\":0.2},\"type\":\"scatter\"}],\"parcoords\":[{\"type\":\"parcoords\",\"line\":{\"colorbar\":{\"outlinewidth\":0,\"ticks\":\"\"}}}],\"scatterpolargl\":[{\"type\":\"scatterpolargl\",\"marker\":{\"colorbar\":{\"outlinewidth\":0,\"ticks\":\"\"}}}],\"bar\":[{\"error_x\":{\"color\":\"#2a3f5f\"},\"error_y\":{\"color\":\"#2a3f5f\"},\"marker\":{\"line\":{\"color\":\"#E5ECF6\",\"width\":0.5},\"pattern\":{\"fillmode\":\"overlay\",\"size\":10,\"solidity\":0.2}},\"type\":\"bar\"}],\"scattergeo\":[{\"type\":\"scattergeo\",\"marker\":{\"colorbar\":{\"outlinewidth\":0,\"ticks\":\"\"}}}],\"scatterpolar\":[{\"type\":\"scatterpolar\",\"marker\":{\"colorbar\":{\"outlinewidth\":0,\"ticks\":\"\"}}}],\"histogram\":[{\"marker\":{\"pattern\":{\"fillmode\":\"overlay\",\"size\":10,\"solidity\":0.2}},\"type\":\"histogram\"}],\"scattergl\":[{\"type\":\"scattergl\",\"marker\":{\"colorbar\":{\"outlinewidth\":0,\"ticks\":\"\"}}}],\"scatter3d\":[{\"type\":\"scatter3d\",\"line\":{\"colorbar\":{\"outlinewidth\":0,\"ticks\":\"\"}},\"marker\":{\"colorbar\":{\"outlinewidth\":0,\"ticks\":\"\"}}}],\"scattermapbox\":[{\"type\":\"scattermapbox\",\"marker\":{\"colorbar\":{\"outlinewidth\":0,\"ticks\":\"\"}}}],\"scatterternary\":[{\"type\":\"scatterternary\",\"marker\":{\"colorbar\":{\"outlinewidth\":0,\"ticks\":\"\"}}}],\"scattercarpet\":[{\"type\":\"scattercarpet\",\"marker\":{\"colorbar\":{\"outlinewidth\":0,\"ticks\":\"\"}}}],\"carpet\":[{\"aaxis\":{\"endlinecolor\":\"#2a3f5f\",\"gridcolor\":\"white\",\"linecolor\":\"white\",\"minorgridcolor\":\"white\",\"startlinecolor\":\"#2a3f5f\"},\"baxis\":{\"endlinecolor\":\"#2a3f5f\",\"gridcolor\":\"white\",\"linecolor\":\"white\",\"minorgridcolor\":\"white\",\"startlinecolor\":\"#2a3f5f\"},\"type\":\"carpet\"}],\"table\":[{\"cells\":{\"fill\":{\"color\":\"#EBF0F8\"},\"line\":{\"color\":\"white\"}},\"header\":{\"fill\":{\"color\":\"#C8D4E3\"},\"line\":{\"color\":\"white\"}},\"type\":\"table\"}],\"barpolar\":[{\"marker\":{\"line\":{\"color\":\"#E5ECF6\",\"width\":0.5},\"pattern\":{\"fillmode\":\"overlay\",\"size\":10,\"solidity\":0.2}},\"type\":\"barpolar\"}],\"pie\":[{\"automargin\":true,\"type\":\"pie\"}]},\"layout\":{\"autotypenumbers\":\"strict\",\"colorway\":[\"#636efa\",\"#EF553B\",\"#00cc96\",\"#ab63fa\",\"#FFA15A\",\"#19d3f3\",\"#FF6692\",\"#B6E880\",\"#FF97FF\",\"#FECB52\"],\"font\":{\"color\":\"#2a3f5f\"},\"hovermode\":\"closest\",\"hoverlabel\":{\"align\":\"left\"},\"paper_bgcolor\":\"white\",\"plot_bgcolor\":\"#E5ECF6\",\"polar\":{\"bgcolor\":\"#E5ECF6\",\"angularaxis\":{\"gridcolor\":\"white\",\"linecolor\":\"white\",\"ticks\":\"\"},\"radialaxis\":{\"gridcolor\":\"white\",\"linecolor\":\"white\",\"ticks\":\"\"}},\"ternary\":{\"bgcolor\":\"#E5ECF6\",\"aaxis\":{\"gridcolor\":\"white\",\"linecolor\":\"white\",\"ticks\":\"\"},\"baxis\":{\"gridcolor\":\"white\",\"linecolor\":\"white\",\"ticks\":\"\"},\"caxis\":{\"gridcolor\":\"white\",\"linecolor\":\"white\",\"ticks\":\"\"}},\"coloraxis\":{\"colorbar\":{\"outlinewidth\":0,\"ticks\":\"\"}},\"colorscale\":{\"sequential\":[[0.0,\"#0d0887\"],[0.1111111111111111,\"#46039f\"],[0.2222222222222222,\"#7201a8\"],[0.3333333333333333,\"#9c179e\"],[0.4444444444444444,\"#bd3786\"],[0.5555555555555556,\"#d8576b\"],[0.6666666666666666,\"#ed7953\"],[0.7777777777777778,\"#fb9f3a\"],[0.8888888888888888,\"#fdca26\"],[1.0,\"#f0f921\"]],\"sequentialminus\":[[0.0,\"#0d0887\"],[0.1111111111111111,\"#46039f\"],[0.2222222222222222,\"#7201a8\"],[0.3333333333333333,\"#9c179e\"],[0.4444444444444444,\"#bd3786\"],[0.5555555555555556,\"#d8576b\"],[0.6666666666666666,\"#ed7953\"],[0.7777777777777778,\"#fb9f3a\"],[0.8888888888888888,\"#fdca26\"],[1.0,\"#f0f921\"]],\"diverging\":[[0,\"#8e0152\"],[0.1,\"#c51b7d\"],[0.2,\"#de77ae\"],[0.3,\"#f1b6da\"],[0.4,\"#fde0ef\"],[0.5,\"#f7f7f7\"],[0.6,\"#e6f5d0\"],[0.7,\"#b8e186\"],[0.8,\"#7fbc41\"],[0.9,\"#4d9221\"],[1,\"#276419\"]]},\"xaxis\":{\"gridcolor\":\"white\",\"linecolor\":\"white\",\"ticks\":\"\",\"title\":{\"standoff\":15},\"zerolinecolor\":\"white\",\"automargin\":true,\"zerolinewidth\":2},\"yaxis\":{\"gridcolor\":\"white\",\"linecolor\":\"white\",\"ticks\":\"\",\"title\":{\"standoff\":15},\"zerolinecolor\":\"white\",\"automargin\":true,\"zerolinewidth\":2},\"scene\":{\"xaxis\":{\"backgroundcolor\":\"#E5ECF6\",\"gridcolor\":\"white\",\"linecolor\":\"white\",\"showbackground\":true,\"ticks\":\"\",\"zerolinecolor\":\"white\",\"gridwidth\":2},\"yaxis\":{\"backgroundcolor\":\"#E5ECF6\",\"gridcolor\":\"white\",\"linecolor\":\"white\",\"showbackground\":true,\"ticks\":\"\",\"zerolinecolor\":\"white\",\"gridwidth\":2},\"zaxis\":{\"backgroundcolor\":\"#E5ECF6\",\"gridcolor\":\"white\",\"linecolor\":\"white\",\"showbackground\":true,\"ticks\":\"\",\"zerolinecolor\":\"white\",\"gridwidth\":2}},\"shapedefaults\":{\"line\":{\"color\":\"#2a3f5f\"}},\"annotationdefaults\":{\"arrowcolor\":\"#2a3f5f\",\"arrowhead\":0,\"arrowwidth\":1},\"geo\":{\"bgcolor\":\"white\",\"landcolor\":\"#E5ECF6\",\"subunitcolor\":\"white\",\"showland\":true,\"showlakes\":true,\"lakecolor\":\"white\"},\"title\":{\"x\":0.05},\"mapbox\":{\"style\":\"light\"}}},\"xaxis\":{\"anchor\":\"y\",\"domain\":[0.0,1.0],\"title\":{\"text\":\"Fruits\"}},\"yaxis\":{\"anchor\":\"x\",\"domain\":[0.0,1.0],\"title\":{\"text\":\"Quantity\"}},\"coloraxis\":{\"colorbar\":{\"title\":{\"text\":\"Quantity\"}},\"colorscale\":[[0.0,\"#0d0887\"],[0.1111111111111111,\"#46039f\"],[0.2222222222222222,\"#7201a8\"],[0.3333333333333333,\"#9c179e\"],[0.4444444444444444,\"#bd3786\"],[0.5555555555555556,\"#d8576b\"],[0.6666666666666666,\"#ed7953\"],[0.7777777777777778,\"#fb9f3a\"],[0.8888888888888888,\"#fdca26\"],[1.0,\"#f0f921\"]]},\"legend\":{\"tracegroupgap\":0},\"title\":{\"text\":\"Fruit Quantities\"},\"barmode\":\"relative\"},                        {\"responsive\": true}                    ).then(function(){\n",
              "                            \n",
              "var gd = document.getElementById('8673758e-676e-4e81-a5de-f76d3ad5c116');\n",
              "var x = new MutationObserver(function (mutations, observer) {{\n",
              "        var display = window.getComputedStyle(gd).display;\n",
              "        if (!display || display === 'none') {{\n",
              "            console.log([gd, 'removed!']);\n",
              "            Plotly.purge(gd);\n",
              "            observer.disconnect();\n",
              "        }}\n",
              "}});\n",
              "\n",
              "// Listen for the removal of the full notebook cells\n",
              "var notebookContainer = gd.closest('#notebook-container');\n",
              "if (notebookContainer) {{\n",
              "    x.observe(notebookContainer, {childList: true});\n",
              "}}\n",
              "\n",
              "// Listen for the clearing of the current output cell\n",
              "var outputEl = gd.closest('.output');\n",
              "if (outputEl) {{\n",
              "    x.observe(outputEl, {childList: true});\n",
              "}}\n",
              "\n",
              "                        })                };                            </script>        </div>\n",
              "</body>\n",
              "</html>"
            ]
          },
          "metadata": {}
        }
      ]
    },
    {
      "cell_type": "markdown",
      "source": [
        "Q6. Create a DataFrame and add a new column based on an existing column."
      ],
      "metadata": {
        "id": "bGnC22cJNYNF"
      }
    },
    {
      "cell_type": "code",
      "source": [
        "import pandas as pd\n",
        "\n",
        "# Create a sample DataFrame\n",
        "data = {\n",
        "    \"Name\": [\"Dimple\", \"Daksha\", \"Jeet\", \"Jayshri\"],\n",
        "    \"Age\": [21, 22, 26, 23]\n",
        "}\n",
        "df = pd.DataFrame(data)\n",
        "\n",
        "# Add a new column 'Age in 5 years' based on existing 'Age' column\n",
        "df[\"Age in 5 years\"] = df[\"Age\"] + 5\n",
        "\n",
        "print(df)\n"
      ],
      "metadata": {
        "colab": {
          "base_uri": "https://localhost:8080/"
        },
        "id": "H9MGvs0mNfEp",
        "outputId": "aa639e93-da99-4e09-f513-23c0ecf7147e"
      },
      "execution_count": 7,
      "outputs": [
        {
          "output_type": "stream",
          "name": "stdout",
          "text": [
            "      Name  Age  Age in 5 years\n",
            "0   Dimple   21              26\n",
            "1   Daksha   22              27\n",
            "2     Jeet   26              31\n",
            "3  Jayshri   23              28\n"
          ]
        }
      ]
    },
    {
      "cell_type": "markdown",
      "source": [
        "Q7.Write a program to perform element-wise multiplication of two NumPy arrays."
      ],
      "metadata": {
        "id": "I58ek8FvOFRX"
      }
    },
    {
      "cell_type": "code",
      "source": [
        "import numpy as np\n",
        "\n",
        "# Create two NumPy arrays\n",
        "arr1 = np.array([1, 2, 3, 4])\n",
        "arr2 = np.array([5, 6, 7, 8])\n",
        "\n",
        "# Element-wise multiplication\n",
        "result = arr1 * arr2\n",
        "\n",
        "print(\"Array 1:\", arr1)\n",
        "print(\"Array 2:\", arr2)\n",
        "print(\"Element-wise multiplication:\", result)\n"
      ],
      "metadata": {
        "colab": {
          "base_uri": "https://localhost:8080/"
        },
        "id": "zDMmVHNkOLtI",
        "outputId": "e8689592-236b-4cda-9f5a-2169ced1ad29"
      },
      "execution_count": 8,
      "outputs": [
        {
          "output_type": "stream",
          "name": "stdout",
          "text": [
            "Array 1: [1 2 3 4]\n",
            "Array 2: [5 6 7 8]\n",
            "Element-wise multiplication: [ 5 12 21 32]\n"
          ]
        }
      ]
    },
    {
      "cell_type": "markdown",
      "source": [
        "Q8. Create a line plot with multiple lines using Matplotlib."
      ],
      "metadata": {
        "id": "Rcu5OXodOXbM"
      }
    },
    {
      "cell_type": "code",
      "source": [
        "import matplotlib.pyplot as plt\n",
        "\n",
        "# Sample data\n",
        "x = [1, 2, 3, 4, 5]\n",
        "y1 = [2, 4, 6, 8, 10]\n",
        "y2 = [1, 3, 5, 7, 9]\n",
        "\n",
        "# Create line plot\n",
        "plt.plot(x, y1, label=\"Line 1\", color=\"blue\", marker=\"o\")\n",
        "plt.plot(x, y2, label=\"Line 2\", color=\"red\", marker=\"s\")\n",
        "\n",
        "# Add title and labels\n",
        "plt.title(\"Multiple Line Plot\")\n",
        "plt.xlabel(\"X-axis\")\n",
        "plt.ylabel(\"Y-axis\")\n",
        "\n",
        "# Show legend\n",
        "plt.legend()\n",
        "\n",
        "# Show plot\n",
        "plt.show()\n"
      ],
      "metadata": {
        "colab": {
          "base_uri": "https://localhost:8080/",
          "height": 472
        },
        "id": "OK4gUKcKOfWi",
        "outputId": "2d2c3f64-4d1b-4f09-d75c-223cd3a22d1e"
      },
      "execution_count": 9,
      "outputs": [
        {
          "output_type": "display_data",
          "data": {
            "text/plain": [
              "<Figure size 640x480 with 1 Axes>"
            ],
            "image/png": "[encoded data removed]"
          },
          "metadata": {}
        }
      ]
    },
    {
      "cell_type": "markdown",
      "source": [
        "Q9.Generate a Pandas DataFrame and filter rows where a column value is greater than a threshold."
      ],
      "metadata": {
        "id": "qqPIgUdJPf4G"
      }
    },
    {
      "cell_type": "code",
      "source": [
        "import pandas as pd\n",
        "\n",
        "# Create a sample DataFrame\n",
        "data = {\n",
        "    \"Name\": [\"Dimple\", \"Daksha\", \"Ojas\", \"Hitesh\"],\n",
        "    \"Age\": [21, 22, 25, 26],\n",
        "    \"Salary\": [50000, 60000, 70000, 80000]\n",
        "}\n",
        "df = pd.DataFrame(data)\n",
        "\n",
        "# Filter rows where Salary is greater than 60000\n",
        "filtered_df = df[df[\"Salary\"] > 60000]\n",
        "\n",
        "print(filtered_df)\n"
      ],
      "metadata": {
        "colab": {
          "base_uri": "https://localhost:8080/"
        },
        "id": "G7pQlWOaPosb",
        "outputId": "29bbd572-1d52-4245-d802-6e07d77cc81a"
      },
      "execution_count": 10,
      "outputs": [
        {
          "output_type": "stream",
          "name": "stdout",
          "text": [
            "     Name  Age  Salary\n",
            "2    Ojas   25   70000\n",
            "3  Hitesh   26   80000\n"
          ]
        }
      ]
    },
    {
      "cell_type": "markdown",
      "source": [
        "Q10. Create a histogram using Seaborn to visualize a distribution."
      ],
      "metadata": {
        "id": "0laoXfG4QEYK"
      }
    },
    {
      "cell_type": "code",
      "source": [
        "import seaborn as sns\n",
        "import matplotlib.pyplot as plt\n",
        "import pandas as pd\n",
        "\n",
        "# Sample data\n",
        "data = pd.DataFrame({\n",
        "    \"Scores\": [55, 60, 65, 70, 75, 80, 85, 90, 95, 100]\n",
        "})\n",
        "\n",
        "# Create histogram\n",
        "sns.histplot(data[\"Scores\"], bins=5, kde=True, color=\"skyblue\")\n",
        "\n",
        "# Add title and labels\n",
        "plt.title(\"Distribution of Scores\")\n",
        "plt.xlabel(\"Score\")\n",
        "plt.ylabel(\"Frequency\")\n",
        "\n",
        "# Show plot\n",
        "plt.show()\n"
      ],
      "metadata": {
        "colab": {
          "base_uri": "https://localhost:8080/",
          "height": 472
        },
        "id": "Ft8qOtVAQM_D",
        "outputId": "22e23da2-755c-458b-d86f-ce991f3b1a77"
      },
      "execution_count": 11,
      "outputs": [
        {
          "output_type": "display_data",
          "data": {
            "text/plain": [
              "<Figure size 640x480 with 1 Axes>"
            ],
            "image/png": "[encoded data removed]"
          },
          "metadata": {}
        }
      ]
    },
    {
      "cell_type": "markdown",
      "source": [
        "Q11.Perform matrix multiplication using NumPy."
      ],
      "metadata": {
        "id": "LddpLX4RQXlA"
      }
    },
    {
      "cell_type": "code",
      "source": [
        "import numpy as np\n",
        "\n",
        "# Create two 2D arrays (matrices)\n",
        "A = np.array([[1, 2, 3],\n",
        "              [4, 5, 6]])\n",
        "\n",
        "B = np.array([[7, 8],\n",
        "              [9, 10],\n",
        "              [11, 12]])\n",
        "\n",
        "# Matrix multiplication\n",
        "C = np.matmul(A, B)  # or C = A @ B\n",
        "\n",
        "print(\"Matrix A:\\n\", A)\n",
        "print(\"Matrix B:\\n\", B)\n",
        "print(\"Matrix multiplication result:\\n\", C)\n"
      ],
      "metadata": {
        "colab": {
          "base_uri": "https://localhost:8080/"
        },
        "id": "DgyDnrQwQcWC",
        "outputId": "ad2b9fca-2aea-4015-b033-f2b7167fd720"
      },
      "execution_count": 12,
      "outputs": [
        {
          "output_type": "stream",
          "name": "stdout",
          "text": [
            "Matrix A:\n",
            " [[1 2 3]\n",
            " [4 5 6]]\n",
            "Matrix B:\n",
            " [[ 7  8]\n",
            " [ 9 10]\n",
            " [11 12]]\n",
            "Matrix multiplication result:\n",
            " [[ 58  64]\n",
            " [139 154]]\n"
          ]
        }
      ]
    },
    {
      "cell_type": "markdown",
      "source": [
        "Q12.Use Pandas to load a CSV file and display its first 5 rows."
      ],
      "metadata": {
        "id": "coCnL-1kQwDR"
      }
    },
    {
      "cell_type": "markdown",
      "source": [
        "Q13. Create a 3D scatter plot using Plotly."
      ],
      "metadata": {
        "id": "gwvLf2r5RK5Q"
      }
    },
    {
      "cell_type": "code",
      "source": [
        "import plotly.express as px\n",
        "import pandas as pd\n",
        "\n",
        "# Sample data\n",
        "data = {\n",
        "    \"X\": [1, 2, 3, 4, 5],\n",
        "    \"Y\": [10, 11, 12, 13, 14],\n",
        "    \"Z\": [5, 6, 7, 8, 9],\n",
        "    \"Category\": [\"A\", \"B\", \"A\", \"B\", \"A\"]\n",
        "}\n",
        "df = pd.DataFrame(data)\n",
        "\n",
        "# Create 3D scatter plot\n",
        "fig = px.scatter_3d(df, x=\"X\", y=\"Y\", z=\"Z\", color=\"Category\", size=\"Z\", symbol=\"Category\")\n",
        "\n",
        "# Add title\n",
        "fig.update_layout(title=\"3D Scatter Plot Example\")\n",
        "\n",
        "# Show plot\n",
        "fig.show()\n"
      ],
      "metadata": {
        "colab": {
          "base_uri": "https://localhost:8080/",
          "height": 542
        },
        "id": "PEtDMRcTRT8r",
        "outputId": "789628fd-d771-41c5-ca96-57003073f44f"
      },
      "execution_count": 15,
      "outputs": [
        {
          "output_type": "display_data",
          "data": {
            "text/html": [
              "<html>\n",
              "<head><meta charset=\"utf-8\" /></head>\n",
              "<body>\n",
              "    <div>            <script src=\"https://cdnjs.cloudflare.com/ajax/libs/mathjax/2.7.5/MathJax.js?config=TeX-AMS-MML_SVG\"></script><script type=\"text/javascript\">if (window.MathJax && window.MathJax.Hub && window.MathJax.Hub.Config) {window.MathJax.Hub.Config({SVG: {font: \"STIX-Web\"}});}</script>                <script type=\"text/javascript\">window.PlotlyConfig = {MathJaxConfig: 'local'};</script>\n",
              "        <script charset=\"utf-8\" src=\"https://cdn.plot.ly/plotly-2.35.2.min.js\"></script>                <div id=\"fd25e68b-a03e-4397-85b3-a54e407c589a\" class=\"plotly-graph-div\" style=\"height:525px; width:100%;\"></div>            <script type=\"text/javascript\">                                    window.PLOTLYENV=window.PLOTLYENV || {};                                    if (document.getElementById(\"fd25e68b-a03e-4397-85b3-a54e407c589a\")) {                    Plotly.newPlot(                        \"fd25e68b-a03e-4397-85b3-a54e407c589a\",                        [{\"hovertemplate\":\"Category=A\\u003cbr\\u003eX=%{x}\\u003cbr\\u003eY=%{y}\\u003cbr\\u003eZ=%{marker.size}\\u003cextra\\u003e\\u003c\\u002fextra\\u003e\",\"legendgroup\":\"A\",\"marker\":{\"color\":\"#636efa\",\"size\":[5,7,9],\"sizemode\":\"area\",\"sizeref\":0.0225,\"symbol\":\"circle\"},\"mode\":\"markers\",\"name\":\"A\",\"scene\":\"scene\",\"showlegend\":true,\"x\":[1,3,5],\"y\":[10,12,14],\"z\":[5,7,9],\"type\":\"scatter3d\"},{\"hovertemplate\":\"Category=B\\u003cbr\\u003eX=%{x}\\u003cbr\\u003eY=%{y}\\u003cbr\\u003eZ=%{marker.size}\\u003cextra\\u003e\\u003c\\u002fextra\\u003e\",\"legendgroup\":\"B\",\"marker\":{\"color\":\"#EF553B\",\"size\":[6,8],\"sizemode\":\"area\",\"sizeref\":0.0225,\"symbol\":\"diamond\"},\"mode\":\"markers\",\"name\":\"B\",\"scene\":\"scene\",\"showlegend\":true,\"x\":[2,4],\"y\":[11,13],\"z\":[6,8],\"type\":\"scatter3d\"}],                        {\"template\":{\"data\":{\"histogram2dcontour\":[{\"type\":\"histogram2dcontour\",\"colorbar\":{\"outlinewidth\":0,\"ticks\":\"\"},\"colorscale\":[[0.0,\"#0d0887\"],[0.1111111111111111,\"#46039f\"],[0.2222222222222222,\"#7201a8\"],[0.3333333333333333,\"#9c179e\"],[0.4444444444444444,\"#bd3786\"],[0.5555555555555556,\"#d8576b\"],[0.6666666666666666,\"#ed7953\"],[0.7777777777777778,\"#fb9f3a\"],[0.8888888888888888,\"#fdca26\"],[1.0,\"#f0f921\"]]}],\"choropleth\":[{\"type\":\"choropleth\",\"colorbar\":{\"outlinewidth\":0,\"ticks\":\"\"}}],\"histogram2d\":[{\"type\":\"histogram2d\",\"colorbar\":{\"outlinewidth\":0,\"ticks\":\"\"},\"colorscale\":[[0.0,\"#0d0887\"],[0.1111111111111111,\"#46039f\"],[0.2222222222222222,\"#7201a8\"],[0.3333333333333333,\"#9c179e\"],[0.4444444444444444,\"#bd3786\"],[0.5555555555555556,\"#d8576b\"],[0.6666666666666666,\"#ed7953\"],[0.7777777777777778,\"#fb9f3a\"],[0.8888888888888888,\"#fdca26\"],[1.0,\"#f0f921\"]]}],\"heatmap\":[{\"type\":\"heatmap\",\"colorbar\":{\"outlinewidth\":0,\"ticks\":\"\"},\"colorscale\":[[0.0,\"#0d0887\"],[0.1111111111111111,\"#46039f\"],[0.2222222222222222,\"#7201a8\"],[0.3333333333333333,\"#9c179e\"],[0.4444444444444444,\"#bd3786\"],[0.5555555555555556,\"#d8576b\"],[0.6666666666666666,\"#ed7953\"],[0.7777777777777778,\"#fb9f3a\"],[0.8888888888888888,\"#fdca26\"],[1.0,\"#f0f921\"]]}],\"heatmapgl\":[{\"type\":\"heatmapgl\",\"colorbar\":{\"outlinewidth\":0,\"ticks\":\"\"},\"colorscale\":[[0.0,\"#0d0887\"],[0.1111111111111111,\"#46039f\"],[0.2222222222222222,\"#7201a8\"],[0.3333333333333333,\"#9c179e\"],[0.4444444444444444,\"#bd3786\"],[0.5555555555555556,\"#d8576b\"],[0.6666666666666666,\"#ed7953\"],[0.7777777777777778,\"#fb9f3a\"],[0.8888888888888888,\"#fdca26\"],[1.0,\"#f0f921\"]]}],\"contourcarpet\":[{\"type\":\"contourcarpet\",\"colorbar\":{\"outlinewidth\":0,\"ticks\":\"\"}}],\"contour\":[{\"type\":\"contour\",\"colorbar\":{\"outlinewidth\":0,\"ticks\":\"\"},\"colorscale\":[[0.0,\"#0d0887\"],[0.1111111111111111,\"#46039f\"],[0.2222222222222222,\"#7201a8\"],[0.3333333333333333,\"#9c179e\"],[0.4444444444444444,\"#bd3786\"],[0.5555555555555556,\"#d8576b\"],[0.6666666666666666,\"#ed7953\"],[0.7777777777777778,\"#fb9f3a\"],[0.8888888888888888,\"#fdca26\"],[1.0,\"#f0f921\"]]}],\"surface\":[{\"type\":\"surface\",\"colorbar\":{\"outlinewidth\":0,\"ticks\":\"\"},\"colorscale\":[[0.0,\"#0d0887\"],[0.1111111111111111,\"#46039f\"],[0.2222222222222222,\"#7201a8\"],[0.3333333333333333,\"#9c179e\"],[0.4444444444444444,\"#bd3786\"],[0.5555555555555556,\"#d8576b\"],[0.6666666666666666,\"#ed7953\"],[0.7777777777777778,\"#fb9f3a\"],[0.8888888888888888,\"#fdca26\"],[1.0,\"#f0f921\"]]}],\"mesh3d\":[{\"type\":\"mesh3d\",\"colorbar\":{\"outlinewidth\":0,\"ticks\":\"\"}}],\"scatter\":[{\"fillpattern\":{\"fillmode\":\"overlay\",\"size\":10,\"solidity\":0.2},\"type\":\"scatter\"}],\"parcoords\":[{\"type\":\"parcoords\",\"line\":{\"colorbar\":{\"outlinewidth\":0,\"ticks\":\"\"}}}],\"scatterpolargl\":[{\"type\":\"scatterpolargl\",\"marker\":{\"colorbar\":{\"outlinewidth\":0,\"ticks\":\"\"}}}],\"bar\":[{\"error_x\":{\"color\":\"#2a3f5f\"},\"error_y\":{\"color\":\"#2a3f5f\"},\"marker\":{\"line\":{\"color\":\"#E5ECF6\",\"width\":0.5},\"pattern\":{\"fillmode\":\"overlay\",\"size\":10,\"solidity\":0.2}},\"type\":\"bar\"}],\"scattergeo\":[{\"type\":\"scattergeo\",\"marker\":{\"colorbar\":{\"outlinewidth\":0,\"ticks\":\"\"}}}],\"scatterpolar\":[{\"type\":\"scatterpolar\",\"marker\":{\"colorbar\":{\"outlinewidth\":0,\"ticks\":\"\"}}}],\"histogram\":[{\"marker\":{\"pattern\":{\"fillmode\":\"overlay\",\"size\":10,\"solidity\":0.2}},\"type\":\"histogram\"}],\"scattergl\":[{\"type\":\"scattergl\",\"marker\":{\"colorbar\":{\"outlinewidth\":0,\"ticks\":\"\"}}}],\"scatter3d\":[{\"type\":\"scatter3d\",\"line\":{\"colorbar\":{\"outlinewidth\":0,\"ticks\":\"\"}},\"marker\":{\"colorbar\":{\"outlinewidth\":0,\"ticks\":\"\"}}}],\"scattermapbox\":[{\"type\":\"scattermapbox\",\"marker\":{\"colorbar\":{\"outlinewidth\":0,\"ticks\":\"\"}}}],\"scatterternary\":[{\"type\":\"scatterternary\",\"marker\":{\"colorbar\":{\"outlinewidth\":0,\"ticks\":\"\"}}}],\"scattercarpet\":[{\"type\":\"scattercarpet\",\"marker\":{\"colorbar\":{\"outlinewidth\":0,\"ticks\":\"\"}}}],\"carpet\":[{\"aaxis\":{\"endlinecolor\":\"#2a3f5f\",\"gridcolor\":\"white\",\"linecolor\":\"white\",\"minorgridcolor\":\"white\",\"startlinecolor\":\"#2a3f5f\"},\"baxis\":{\"endlinecolor\":\"#2a3f5f\",\"gridcolor\":\"white\",\"linecolor\":\"white\",\"minorgridcolor\":\"white\",\"startlinecolor\":\"#2a3f5f\"},\"type\":\"carpet\"}],\"table\":[{\"cells\":{\"fill\":{\"color\":\"#EBF0F8\"},\"line\":{\"color\":\"white\"}},\"header\":{\"fill\":{\"color\":\"#C8D4E3\"},\"line\":{\"color\":\"white\"}},\"type\":\"table\"}],\"barpolar\":[{\"marker\":{\"line\":{\"color\":\"#E5ECF6\",\"width\":0.5},\"pattern\":{\"fillmode\":\"overlay\",\"size\":10,\"solidity\":0.2}},\"type\":\"barpolar\"}],\"pie\":[{\"automargin\":true,\"type\":\"pie\"}]},\"layout\":{\"autotypenumbers\":\"strict\",\"colorway\":[\"#636efa\",\"#EF553B\",\"#00cc96\",\"#ab63fa\",\"#FFA15A\",\"#19d3f3\",\"#FF6692\",\"#B6E880\",\"#FF97FF\",\"#FECB52\"],\"font\":{\"color\":\"#2a3f5f\"},\"hovermode\":\"closest\",\"hoverlabel\":{\"align\":\"left\"},\"paper_bgcolor\":\"white\",\"plot_bgcolor\":\"#E5ECF6\",\"polar\":{\"bgcolor\":\"#E5ECF6\",\"angularaxis\":{\"gridcolor\":\"white\",\"linecolor\":\"white\",\"ticks\":\"\"},\"radialaxis\":{\"gridcolor\":\"white\",\"linecolor\":\"white\",\"ticks\":\"\"}},\"ternary\":{\"bgcolor\":\"#E5ECF6\",\"aaxis\":{\"gridcolor\":\"white\",\"linecolor\":\"white\",\"ticks\":\"\"},\"baxis\":{\"gridcolor\":\"white\",\"linecolor\":\"white\",\"ticks\":\"\"},\"caxis\":{\"gridcolor\":\"white\",\"linecolor\":\"white\",\"ticks\":\"\"}},\"coloraxis\":{\"colorbar\":{\"outlinewidth\":0,\"ticks\":\"\"}},\"colorscale\":{\"sequential\":[[0.0,\"#0d0887\"],[0.1111111111111111,\"#46039f\"],[0.2222222222222222,\"#7201a8\"],[0.3333333333333333,\"#9c179e\"],[0.4444444444444444,\"#bd3786\"],[0.5555555555555556,\"#d8576b\"],[0.6666666666666666,\"#ed7953\"],[0.7777777777777778,\"#fb9f3a\"],[0.8888888888888888,\"#fdca26\"],[1.0,\"#f0f921\"]],\"sequentialminus\":[[0.0,\"#0d0887\"],[0.1111111111111111,\"#46039f\"],[0.2222222222222222,\"#7201a8\"],[0.3333333333333333,\"#9c179e\"],[0.4444444444444444,\"#bd3786\"],[0.5555555555555556,\"#d8576b\"],[0.6666666666666666,\"#ed7953\"],[0.7777777777777778,\"#fb9f3a\"],[0.8888888888888888,\"#fdca26\"],[1.0,\"#f0f921\"]],\"diverging\":[[0,\"#8e0152\"],[0.1,\"#c51b7d\"],[0.2,\"#de77ae\"],[0.3,\"#f1b6da\"],[0.4,\"#fde0ef\"],[0.5,\"#f7f7f7\"],[0.6,\"#e6f5d0\"],[0.7,\"#b8e186\"],[0.8,\"#7fbc41\"],[0.9,\"#4d9221\"],[1,\"#276419\"]]},\"xaxis\":{\"gridcolor\":\"white\",\"linecolor\":\"white\",\"ticks\":\"\",\"title\":{\"standoff\":15},\"zerolinecolor\":\"white\",\"automargin\":true,\"zerolinewidth\":2},\"yaxis\":{\"gridcolor\":\"white\",\"linecolor\":\"white\",\"ticks\":\"\",\"title\":{\"standoff\":15},\"zerolinecolor\":\"white\",\"automargin\":true,\"zerolinewidth\":2},\"scene\":{\"xaxis\":{\"backgroundcolor\":\"#E5ECF6\",\"gridcolor\":\"white\",\"linecolor\":\"white\",\"showbackground\":true,\"ticks\":\"\",\"zerolinecolor\":\"white\",\"gridwidth\":2},\"yaxis\":{\"backgroundcolor\":\"#E5ECF6\",\"gridcolor\":\"white\",\"linecolor\":\"white\",\"showbackground\":true,\"ticks\":\"\",\"zerolinecolor\":\"white\",\"gridwidth\":2},\"zaxis\":{\"backgroundcolor\":\"#E5ECF6\",\"gridcolor\":\"white\",\"linecolor\":\"white\",\"showbackground\":true,\"ticks\":\"\",\"zerolinecolor\":\"white\",\"gridwidth\":2}},\"shapedefaults\":{\"line\":{\"color\":\"#2a3f5f\"}},\"annotationdefaults\":{\"arrowcolor\":\"#2a3f5f\",\"arrowhead\":0,\"arrowwidth\":1},\"geo\":{\"bgcolor\":\"white\",\"landcolor\":\"#E5ECF6\",\"subunitcolor\":\"white\",\"showland\":true,\"showlakes\":true,\"lakecolor\":\"white\"},\"title\":{\"x\":0.05},\"mapbox\":{\"style\":\"light\"}}},\"scene\":{\"domain\":{\"x\":[0.0,1.0],\"y\":[0.0,1.0]},\"xaxis\":{\"title\":{\"text\":\"X\"}},\"yaxis\":{\"title\":{\"text\":\"Y\"}},\"zaxis\":{\"title\":{\"text\":\"Z\"}}},\"legend\":{\"title\":{\"text\":\"Category\"},\"tracegroupgap\":0,\"itemsizing\":\"constant\"},\"margin\":{\"t\":60},\"title\":{\"text\":\"3D Scatter Plot Example\"}},                        {\"responsive\": true}                    ).then(function(){\n",
              "                            \n",
              "var gd = document.getElementById('fd25e68b-a03e-4397-85b3-a54e407c589a');\n",
              "var x = new MutationObserver(function (mutations, observer) {{\n",
              "        var display = window.getComputedStyle(gd).display;\n",
              "        if (!display || display === 'none') {{\n",
              "            console.log([gd, 'removed!']);\n",
              "            Plotly.purge(gd);\n",
              "            observer.disconnect();\n",
              "        }}\n",
              "}});\n",
              "\n",
              "// Listen for the removal of the full notebook cells\n",
              "var notebookContainer = gd.closest('#notebook-container');\n",
              "if (notebookContainer) {{\n",
              "    x.observe(notebookContainer, {childList: true});\n",
              "}}\n",
              "\n",
              "// Listen for the clearing of the current output cell\n",
              "var outputEl = gd.closest('.output');\n",
              "if (outputEl) {{\n",
              "    x.observe(outputEl, {childList: true});\n",
              "}}\n",
              "\n",
              "                        })                };                            </script>        </div>\n",
              "</body>\n",
              "</html>"
            ]
          },
          "metadata": {}
        }
      ]
    }
  ]
}